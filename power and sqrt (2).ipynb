{
 "cells": [
  {
   "cell_type": "code",
   "execution_count": null,
   "id": "958e5a08-f4c1-45e6-b0d1-ee3ec1ffb0a3",
   "metadata": {},
   "outputs": [],
   "source": [
    "from math import sqrt,pow\n",
    "n=16\n",
    "print(sqrt(n))\n",
    "print(pow(2,3))"
   ]
  }
 ],
 "metadata": {
  "kernelspec": {
   "display_name": "Python 3 (ipykernel)",
   "language": "python",
   "name": "python3"
  },
  "language_info": {
   "codemirror_mode": {
    "name": "ipython",
    "version": 3
   },
   "file_extension": ".py",
   "mimetype": "text/x-python",
   "name": "python",
   "nbconvert_exporter": "python",
   "pygments_lexer": "ipython3",
   "version": "3.12.7"
  }
 },
 "nbformat": 4,
 "nbformat_minor": 5
}
