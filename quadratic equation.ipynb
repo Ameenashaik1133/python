{
 "cells": [
  {
   "cell_type": "code",
   "execution_count": 5,
   "id": "46d4f103-5755-4e07-8231-56beb15eeb9a",
   "metadata": {},
   "outputs": [
    {
     "name": "stdin",
     "output_type": "stream",
     "text": [
      "enter a number a: 2\n",
      "enter a number b: 3\n",
      "enter a number c: 1\n",
      "enter a number x: 4\n"
     ]
    },
    {
     "name": "stdout",
     "output_type": "stream",
     "text": [
      "the result of the equation is 45\n"
     ]
    }
   ],
   "source": [
    "#quadratic equation\n",
    "a=int(input(\"enter a number a:\"))\n",
    "b=int(input(\"enter a number b:\"))\n",
    "c=int(input(\"enter a number c:\"))\n",
    "x=int(input(\"enter a number x:\"))\n",
    "result=a*(x**2)+b*x+c\n",
    "print(\"the result of the equation is\",result)"
   ]
  },
  {
   "cell_type": "code",
   "execution_count": null,
   "id": "bc47471e-b843-4999-8f32-abe2f9c79ebe",
   "metadata": {},
   "outputs": [],
   "source": []
  }
 ],
 "metadata": {
  "kernelspec": {
   "display_name": "Python 3 (ipykernel)",
   "language": "python",
   "name": "python3"
  },
  "language_info": {
   "codemirror_mode": {
    "name": "ipython",
    "version": 3
   },
   "file_extension": ".py",
   "mimetype": "text/x-python",
   "name": "python",
   "nbconvert_exporter": "python",
   "pygments_lexer": "ipython3",
   "version": "3.12.7"
  }
 },
 "nbformat": 4,
 "nbformat_minor": 5
}
