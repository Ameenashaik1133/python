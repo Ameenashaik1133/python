{
 "cells": [
  {
   "cell_type": "code",
   "execution_count": 10,
   "id": "673c015f-15bb-4f24-aed0-3b993ea578fe",
   "metadata": {},
   "outputs": [
    {
     "name": "stdin",
     "output_type": "stream",
     "text": [
      "enter a name/word: abc\n"
     ]
    },
    {
     "name": "stdout",
     "output_type": "stream",
     "text": [
      "possibilities of combination...\n",
      "abc\n",
      "abc\n",
      "ab\n",
      "acb\n",
      "acb\n",
      "ac\n",
      "abc\n",
      "abc\n",
      "ab\n",
      "ac\n",
      "ac\n",
      "a\n",
      "bac\n",
      "bac\n",
      "ba\n",
      "bca\n",
      "bca\n",
      "bc\n",
      "bac\n",
      "bac\n",
      "ba\n",
      "bc\n",
      "bc\n",
      "b\n",
      "cab\n",
      "cab\n",
      "ca\n",
      "cba\n",
      "cba\n",
      "cb\n",
      "cab\n",
      "cab\n",
      "ca\n",
      "cb\n",
      "cb\n",
      "c\n",
      "abc\n",
      "abc\n",
      "ab\n",
      "acb\n",
      "acb\n",
      "ac\n",
      "abc\n",
      "abc\n",
      "ab\n",
      "ac\n",
      "ac\n",
      "a\n",
      "bc\n",
      "bc\n",
      "b\n",
      "cb\n",
      "cb\n",
      "c\n",
      "bc\n",
      "bc\n",
      "b\n",
      "c\n",
      "c\n",
      "\n"
     ]
    }
   ],
   "source": [
    "''' permutations of char in tree recursion'''\n",
    "def permute(s, bucket=''):\n",
    "    if not s:\n",
    "        print(bucket)\n",
    "        return\n",
    "    for i in range(len(s)):\n",
    "         ns=s[:i]+s[i+1:]\n",
    "         permute(ns,bucket+s[i])\n",
    "    permute(s[1:],bucket + s[0])\n",
    "    permute(s[1:],bucket)\n",
    "text=input(\"enter a name/word:\")\n",
    "print(\"possibilities of combination...\")\n",
    "permute(text)"
   ]
  },
  {
   "cell_type": "code",
   "execution_count": null,
   "id": "ee3c1ae1-e051-48fb-b31b-64fccd388016",
   "metadata": {},
   "outputs": [],
   "source": [
    "+"
   ]
  }
 ],
 "metadata": {
  "kernelspec": {
   "display_name": "Python 3 (ipykernel)",
   "language": "python",
   "name": "python3"
  },
  "language_info": {
   "codemirror_mode": {
    "name": "ipython",
    "version": 3
   },
   "file_extension": ".py",
   "mimetype": "text/x-python",
   "name": "python",
   "nbconvert_exporter": "python",
   "pygments_lexer": "ipython3",
   "version": "3.12.7"
  }
 },
 "nbformat": 4,
 "nbformat_minor": 5
}
