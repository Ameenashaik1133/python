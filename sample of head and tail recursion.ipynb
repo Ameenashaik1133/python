{
 "cells": [
  {
   "cell_type": "code",
   "execution_count": 1,
   "id": "8ecf351b-b701-42e1-b22d-89959192a46f",
   "metadata": {},
   "outputs": [
    {
     "name": "stdin",
     "output_type": "stream",
     "text": [
      "enter a number: 5\n"
     ]
    },
    {
     "name": "stdout",
     "output_type": "stream",
     "text": [
      "sum: 15\n"
     ]
    }
   ],
   "source": [
    "def sumhead(n):\n",
    "    if n==0:\n",
    "        return 0\n",
    "    return n+sumhead(n-1)\n",
    "num=int(input(\"enter a number:\"))\n",
    "print(\"sum:\",sumhead(num))\n",
    "    "
   ]
  },
  {
   "cell_type": "code",
   "execution_count": 3,
   "id": "e5d1e09e-7962-4563-8864-bb495e58419a",
   "metadata": {},
   "outputs": [
    {
     "name": "stdin",
     "output_type": "stream",
     "text": [
      "enter a number: 10\n"
     ]
    },
    {
     "name": "stdout",
     "output_type": "stream",
     "text": [
      "sum: 55\n"
     ]
    }
   ],
   "source": [
    "def sumtail(n,temp=0):\n",
    "    if n==0:\n",
    "        return temp\n",
    "    return sumtail(n-1,temp+n)\n",
    "num=int(input(\"enter a number:\"))\n",
    "print(\"sum:\",sumtail(num))"
   ]
  },
  {
   "cell_type": "code",
   "execution_count": null,
   "id": "69c2aa95-e518-43b6-a1fd-2e1c2ed80dc0",
   "metadata": {},
   "outputs": [],
   "source": []
  }
 ],
 "metadata": {
  "kernelspec": {
   "display_name": "Python 3 (ipykernel)",
   "language": "python",
   "name": "python3"
  },
  "language_info": {
   "codemirror_mode": {
    "name": "ipython",
    "version": 3
   },
   "file_extension": ".py",
   "mimetype": "text/x-python",
   "name": "python",
   "nbconvert_exporter": "python",
   "pygments_lexer": "ipython3",
   "version": "3.12.7"
  }
 },
 "nbformat": 4,
 "nbformat_minor": 5
}
