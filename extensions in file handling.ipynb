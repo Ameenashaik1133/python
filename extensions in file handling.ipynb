{
 "cells": [
  {
   "cell_type": "code",
   "execution_count": 4,
   "id": "b831016d-e751-4a60-96d3-1e062b3f4a4d",
   "metadata": {},
   "outputs": [
    {
     "name": "stdout",
     "output_type": "stream",
     "text": [
      "latest data\n",
      "My name is ameena.\n",
      "\n"
     ]
    },
    {
     "name": "stdin",
     "output_type": "stream",
     "text": [
      "\n",
      " enter text to overwrite from begining.... rrrrreth\n"
     ]
    },
    {
     "name": "stdout",
     "output_type": "stream",
     "text": [
      "\n",
      " file after writing by r+\n",
      "rrrrrethis ameena.\n",
      "\n"
     ]
    }
   ],
   "source": [
    "#r+\n",
    "filename='abc.teX'\n",
    "with open(filename,'w') as f:\n",
    "    f.write(\"My name is ameena.\\n\")\n",
    "with open(filename ,'r+') as file:\n",
    "    print(\"latest data\")\n",
    "    print(file.read())\n",
    "    file.seek(0)\n",
    "    userinput=input(\"\\n enter text to overwrite from begining....\")\n",
    "    file.write(userinput)\n",
    "    file.seek(0)\n",
    "    print(\"\\n file after writing by r+\")\n",
    "    print(file.read())"
   ]
  },
  {
   "cell_type": "code",
   "execution_count": 12,
   "id": "a91cd2dd-e995-4e39-979c-133159c3cdad",
   "metadata": {},
   "outputs": [
    {
     "name": "stdin",
     "output_type": "stream",
     "text": [
      "enter any data iam Ameena farheen from ongole\n"
     ]
    },
    {
     "name": "stdout",
     "output_type": "stream",
     "text": [
      "\n",
      " latest file content\n",
      "iam Ameena farheen from ongole\n"
     ]
    }
   ],
   "source": [
    "#w+\n",
    "with open('abc.teX', 'w+') as file:\n",
    "    text=input(\"enter any data\")\n",
    "    file.write(text)\n",
    "    file.seek(0)\n",
    "    print(\"\\n latest file content\")\n",
    "    print(file.read())"
   ]
  },
  {
   "cell_type": "code",
   "execution_count": 16,
   "id": "f5cc94da-2d9b-4fd6-8df4-d586d0bed79a",
   "metadata": {},
   "outputs": [
    {
     "name": "stdin",
     "output_type": "stream",
     "text": [
      "enter a line to append data 1\n"
     ]
    },
    {
     "name": "stdout",
     "output_type": "stream",
     "text": [
      "\n",
      " curent content in the file\n",
      "iam Ameena farheen from ongole1\n",
      "1\n",
      "\n"
     ]
    }
   ],
   "source": [
    "#a+\n",
    "with open('abc.teX', 'a+') as file:\n",
    "    text=input(\"enter a line to append data\")\n",
    "    file.write(text+'\\n')\n",
    "    file.seek(0)\n",
    "    print(\"\\n curent content in the file\")\n",
    "    print(file.read())\n"
   ]
  },
  {
   "cell_type": "code",
   "execution_count": null,
   "id": "c93b8029-f59e-4119-809d-5eeec734cbec",
   "metadata": {},
   "outputs": [],
   "source": []
  }
 ],
 "metadata": {
  "kernelspec": {
   "display_name": "Python 3 (ipykernel)",
   "language": "python",
   "name": "python3"
  },
  "language_info": {
   "codemirror_mode": {
    "name": "ipython",
    "version": 3
   },
   "file_extension": ".py",
   "mimetype": "text/x-python",
   "name": "python",
   "nbconvert_exporter": "python",
   "pygments_lexer": "ipython3",
   "version": "3.12.7"
  }
 },
 "nbformat": 4,
 "nbformat_minor": 5
}
