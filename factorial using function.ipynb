{
 "cells": [
  {
   "cell_type": "code",
   "execution_count": 1,
   "id": "d94d5572-0900-4c77-81a9-bbffaf0804ea",
   "metadata": {},
   "outputs": [
    {
     "name": "stdin",
     "output_type": "stream",
     "text": [
      "enter a number 4\n"
     ]
    },
    {
     "name": "stdout",
     "output_type": "stream",
     "text": [
      "factorial4 is 24\n"
     ]
    }
   ],
   "source": [
    "fact=1\n",
    "def factorial(n):\n",
    "    global fact\n",
    "    fact=1\n",
    "    for i in range(1,n+1):\n",
    "        fact *=i\n",
    "    return fact    \n",
    "num=int(input(\"enter a number\"))\n",
    "if num<0:\n",
    "    print(\"cannot derive factorial for negative numbers\")\n",
    "else:\n",
    "    factorial(num)\n",
    "    print(f\"factorial{num} is\",fact)"
   ]
  },
  {
   "cell_type": "code",
   "execution_count": null,
   "id": "a95685c1-b117-4c90-b0b2-b4f5a6deb393",
   "metadata": {},
   "outputs": [],
   "source": []
  }
 ],
 "metadata": {
  "kernelspec": {
   "display_name": "Python 3 (ipykernel)",
   "language": "python",
   "name": "python3"
  },
  "language_info": {
   "codemirror_mode": {
    "name": "ipython",
    "version": 3
   },
   "file_extension": ".py",
   "mimetype": "text/x-python",
   "name": "python",
   "nbconvert_exporter": "python",
   "pygments_lexer": "ipython3",
   "version": "3.12.7"
  }
 },
 "nbformat": 4,
 "nbformat_minor": 5
}
