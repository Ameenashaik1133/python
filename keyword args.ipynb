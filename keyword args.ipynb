{
 "cells": [
  {
   "cell_type": "code",
   "execution_count": 13,
   "id": "493fcfa6-5f74-4350-a8be-4f8f26d08638",
   "metadata": {},
   "outputs": [
    {
     "name": "stdout",
     "output_type": "stream",
     "text": [
      "name:Ameena\n",
      "age:20\n",
      "cgpa:7.5\n",
      "rollno:5\n",
      "gender:female\n"
     ]
    }
   ],
   "source": [
    "#keyword args\n",
    "def info(**kwargs):\n",
    "    for key,value in kwargs.items():\n",
    "        print(f\"{key}:{value}\")\n",
    "info(name='Ameena' , age=20 ,cgpa=7.5, rollno=5, gender='female')        "
   ]
  },
  {
   "cell_type": "code",
   "execution_count": 21,
   "id": "57c313ef-95fe-43c1-9fcf-1a5811354d88",
   "metadata": {},
   "outputs": [
    {
     "name": "stdout",
     "output_type": "stream",
     "text": [
      "Name:Ameena\n"
     ]
    }
   ],
   "source": [
    "#kwargs accessing only one item\n",
    "def info(**kwargs):\n",
    "    for key,value in kwargs.items():\n",
    "        name=kwargs[\"name\"]\n",
    "    print(f\"Name:{name}\")\n",
    "info(name='Ameena' , age=20 ,cgpa=7.5, rollno=5, gender='female')        \n"
   ]
  },
  {
   "cell_type": "code",
   "execution_count": 25,
   "id": "b992b44f-ffbe-401f-87eb-3de6755435f6",
   "metadata": {},
   "outputs": [
    {
     "name": "stdout",
     "output_type": "stream",
     "text": [
      "keys: dict_keys(['name', 'age', 'cgpa', 'rollno', 'gender'])\n",
      "-----------------\n",
      "name\n",
      "age\n",
      "cgpa\n",
      "rollno\n",
      "gender\n"
     ]
    }
   ],
   "source": [
    "#printing only keys\n",
    "def info(**kwargs):\n",
    "    print(\"keys:\",kwargs.keys())\n",
    "    print(\"-----------------\")\n",
    "    for key in kwargs:\n",
    "        print(key)\n",
    "info(name='Ameena' , age=20 ,cgpa=7.5, rollno=5, gender='female')        \n"
   ]
  },
  {
   "cell_type": "code",
   "execution_count": 31,
   "id": "dd3ef808-10d1-4145-a846-9efeb173e6ac",
   "metadata": {},
   "outputs": [
    {
     "name": "stdout",
     "output_type": "stream",
     "text": [
      "values: dict_values(['Ameena', 20, 7.5, 5, 'female'])\n",
      "-----------------\n",
      "('name', 'Ameena')\n",
      "('age', 20)\n",
      "('cgpa', 7.5)\n",
      "('rollno', 5)\n",
      "('gender', 'female')\n"
     ]
    }
   ],
   "source": [
    "#printing on values\n",
    "def info(**kwargs):\n",
    "    print(\"values:\",kwargs.values())\n",
    "    print(\"-----------------\")\n",
    "    for value in kwargs.items():\n",
    "        print(value)\n",
    "info(name='Ameena' , age=20 ,cgpa=7.5, rollno=5, gender='female')     \n"
   ]
  },
  {
   "cell_type": "code",
   "execution_count": null,
   "id": "d7bd87bd-2737-408b-ac38-4e04295d94cc",
   "metadata": {},
   "outputs": [],
   "source": []
  }
 ],
 "metadata": {
  "kernelspec": {
   "display_name": "Python 3 (ipykernel)",
   "language": "python",
   "name": "python3"
  },
  "language_info": {
   "codemirror_mode": {
    "name": "ipython",
    "version": 3
   },
   "file_extension": ".py",
   "mimetype": "text/x-python",
   "name": "python",
   "nbconvert_exporter": "python",
   "pygments_lexer": "ipython3",
   "version": "3.12.7"
  }
 },
 "nbformat": 4,
 "nbformat_minor": 5
}
