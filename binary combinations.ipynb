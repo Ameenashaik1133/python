{
 "cells": [
  {
   "cell_type": "code",
   "execution_count": 7,
   "id": "d9df8aa1-7f38-4208-8971-7406b91acf36",
   "metadata": {},
   "outputs": [
    {
     "name": "stdin",
     "output_type": "stream",
     "text": [
      "enter the length of string 3\n"
     ]
    },
    {
     "name": "stdout",
     "output_type": "stream",
     "text": [
      "binary combinations...\n",
      " 000\n",
      " 001\n",
      " 010\n",
      " 011\n",
      " 100\n",
      " 101\n",
      " 110\n",
      " 111\n"
     ]
    }
   ],
   "source": [
    "  '''combination of binary numbers'''\n",
    "def binary(n,b=' '):\n",
    "    if n==0:\n",
    "        print(b)\n",
    "        return\n",
    "    binary(n-1,b+'0')\n",
    "    binary(n-1,b+'1')    \n",
    "length=int(input(\"enter the length of string\"))\n",
    "print(\"binary combinations...\")\n",
    "binary(length)"
   ]
  },
  {
   "cell_type": "code",
   "execution_count": null,
   "id": "8a7e681f-f73f-4782-849b-d9e90cf15780",
   "metadata": {},
   "outputs": [],
   "source": []
  }
 ],
 "metadata": {
  "kernelspec": {
   "display_name": "Python 3 (ipykernel)",
   "language": "python",
   "name": "python3"
  },
  "language_info": {
   "codemirror_mode": {
    "name": "ipython",
    "version": 3
   },
   "file_extension": ".py",
   "mimetype": "text/x-python",
   "name": "python",
   "nbconvert_exporter": "python",
   "pygments_lexer": "ipython3",
   "version": "3.12.7"
  }
 },
 "nbformat": 4,
 "nbformat_minor": 5
}
