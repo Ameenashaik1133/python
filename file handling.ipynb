{
 "cells": [
  {
   "cell_type": "code",
   "execution_count": 3,
   "id": "41491a0a-dde0-4510-9568-dbe5d64e1b7f",
   "metadata": {},
   "outputs": [
    {
     "name": "stdout",
     "output_type": "stream",
     "text": [
      "file data in sample2.txt: hello students!!!\n"
     ]
    }
   ],
   "source": [
    "#read a file\n",
    "file=open('sample2.txt', 'r')\n",
    "data=file.read()\n",
    "print(\"file data in sample2.txt:\",data)\n",
    "file.close()"
   ]
  },
  {
   "cell_type": "code",
   "execution_count": 7,
   "id": "3e24b51d-8887-4517-990b-3d64992340d9",
   "metadata": {},
   "outputs": [],
   "source": [
    "#write a file\n",
    "f=open('sample1.txt','w')\n",
    "f.write(\"hello..\")\n",
    "f.close()"
   ]
  },
  {
   "cell_type": "code",
   "execution_count": 9,
   "id": "18bebd11-645f-46f3-9ef8-c6b2ef3a3954",
   "metadata": {},
   "outputs": [],
   "source": [
    "#writing into an empty file\n",
    "f=open('sample3.txt','w')\n",
    "f.write(\"landscape....\")\n",
    "f.close()"
   ]
  },
  {
   "cell_type": "code",
   "execution_count": 11,
   "id": "cd2b2906-ddc9-4615-8c8d-060a863d189c",
   "metadata": {},
   "outputs": [],
   "source": [
    "#append \n",
    "f=open('sample1.txt','a')\n",
    "f.write(\"how are you\")\n",
    "f.close()"
   ]
  },
  {
   "cell_type": "code",
   "execution_count": 13,
   "id": "2ac05a01-354a-4477-a202-83c3442adf7d",
   "metadata": {},
   "outputs": [],
   "source": [
    "#with as keyword\n",
    "with open('groups.txt','w')as ss:\n",
    "    ss.write(\"hello......how are you\")"
   ]
  },
  {
   "cell_type": "code",
   "execution_count": 19,
   "id": "11cf06e0-0bd2-489b-a48d-2472f9d826a3",
   "metadata": {},
   "outputs": [
    {
     "name": "stdout",
     "output_type": "stream",
     "text": [
      "\n",
      "\n"
     ]
    }
   ],
   "source": [
    "file=open('ss1.txt','r')\n",
    "print(file.readline())\n",
    "print(file.readline())\n"
   ]
  },
  {
   "cell_type": "code",
   "execution_count": null,
   "id": "7406259f-2319-4c2d-ae7a-c000c4a11f6b",
   "metadata": {},
   "outputs": [],
   "source": []
  }
 ],
 "metadata": {
  "kernelspec": {
   "display_name": "Python 3 (ipykernel)",
   "language": "python",
   "name": "python3"
  },
  "language_info": {
   "codemirror_mode": {
    "name": "ipython",
    "version": 3
   },
   "file_extension": ".py",
   "mimetype": "text/x-python",
   "name": "python",
   "nbconvert_exporter": "python",
   "pygments_lexer": "ipython3",
   "version": "3.12.7"
  }
 },
 "nbformat": 4,
 "nbformat_minor": 5
}
