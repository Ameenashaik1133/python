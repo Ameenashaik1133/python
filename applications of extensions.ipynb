{
 "cells": [
  {
   "cell_type": "code",
   "execution_count": 7,
   "id": "65d59a5c-63b2-4710-987c-042c68a2ada4",
   "metadata": {},
   "outputs": [
    {
     "name": "stdin",
     "output_type": "stream",
     "text": [
      "enter the filename with extension abc.teX\n",
      "enter a char to search frequecy f\n"
     ]
    },
    {
     "name": "stdout",
     "output_type": "stream",
     "text": [
      "f appears 0 times in the file\n"
     ]
    }
   ],
   "source": [
    "\n",
    "\n",
    "\n",
    "\n",
    "\n",
    "\n",
    "filename=input(\"enter the filename with extension\")\n",
    "with open(filename) as file:\n",
    "    text=file.read()\n",
    "    letter=input(\"enter a char to search frequecy\")\n",
    "    count=0\n",
    "    for char in text:\n",
    "        if char==text:\n",
    "            count+=1\n",
    "print(letter, \"appears\", count ,\"times in the file\")            \n",
    "            \n",
    "            \n"
   ]
  },
  {
   "cell_type": "code",
   "execution_count": null,
   "id": "6a3a8d31-3550-4c64-9df6-c79d1d68cb76",
   "metadata": {},
   "outputs": [],
   "source": []
  }
 ],
 "metadata": {
  "kernelspec": {
   "display_name": "Python 3 (ipykernel)",
   "language": "python",
   "name": "python3"
  },
  "language_info": {
   "codemirror_mode": {
    "name": "ipython",
    "version": 3
   },
   "file_extension": ".py",
   "mimetype": "text/x-python",
   "name": "python",
   "nbconvert_exporter": "python",
   "pygments_lexer": "ipython3",
   "version": "3.12.7"
  }
 },
 "nbformat": 4,
 "nbformat_minor": 5
}
