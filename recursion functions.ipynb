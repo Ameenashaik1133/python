{
 "cells": [
  {
   "cell_type": "code",
   "execution_count": 4,
   "id": "9e73e501-7fa3-46ed-81d2-16338025821d",
   "metadata": {},
   "outputs": [
    {
     "name": "stdin",
     "output_type": "stream",
     "text": [
      "enter a number 10\n"
     ]
    },
    {
     "name": "stdout",
     "output_type": "stream",
     "text": [
      "sum of first 10 numbers is 55\n"
     ]
    }
   ],
   "source": [
    "# sum of n natural numbers\n",
    "def nsum(n):\n",
    "    if n==0:\n",
    "        return 0\n",
    "    return n+nsum(n-1)    \n",
    "num=int(input(\"enter a number\"))\n",
    "print(\"sum of first\",num,\"numbers is\",nsum(num))"
   ]
  },
  {
   "cell_type": "code",
   "execution_count": 10,
   "id": "537add0d-6955-4fc6-9a94-585c8ebbe9ca",
   "metadata": {},
   "outputs": [
    {
     "name": "stdin",
     "output_type": "stream",
     "text": [
      "enter a word india\n"
     ]
    },
    {
     "name": "stdout",
     "output_type": "stream",
     "text": [
      "aidni\n"
     ]
    }
   ],
   "source": [
    "#string recursion\n",
    "def rstring(s):\n",
    "    if len(s)==0:\n",
    "        return s\n",
    "    return rstring(s[1:])+s[0]    \n",
    "text=input(\"enter a word\")\n",
    "print(rstring(text))"
   ]
  },
  {
   "cell_type": "code",
   "execution_count": null,
   "id": "3f57b595-fdf4-4e93-bba1-d65c8608d1ea",
   "metadata": {},
   "outputs": [],
   "source": []
  }
 ],
 "metadata": {
  "kernelspec": {
   "display_name": "Python 3 (ipykernel)",
   "language": "python",
   "name": "python3"
  },
  "language_info": {
   "codemirror_mode": {
    "name": "ipython",
    "version": 3
   },
   "file_extension": ".py",
   "mimetype": "text/x-python",
   "name": "python",
   "nbconvert_exporter": "python",
   "pygments_lexer": "ipython3",
   "version": "3.12.7"
  }
 },
 "nbformat": 4,
 "nbformat_minor": 5
}
