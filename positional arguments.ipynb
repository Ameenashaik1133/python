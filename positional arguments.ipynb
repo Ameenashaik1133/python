{
 "cells": [
  {
   "cell_type": "code",
   "execution_count": 7,
   "id": "7264248e-732f-4316-8652-9cd3ee48ee6f",
   "metadata": {},
   "outputs": [
    {
     "name": "stdout",
     "output_type": "stream",
     "text": [
      "5\n",
      "55\n"
     ]
    }
   ],
   "source": [
    "#positonal arguments\n",
    "def sumnum(*args):\n",
    "    print(args[4])\n",
    "    return sum(args)\n",
    "print(sumnum(1,2,3,4,5,6,7,8,9,10))    \n",
    "    "
   ]
  },
  {
   "cell_type": "code",
   "execution_count": 12,
   "id": "9fc6eed4-84e9-4811-93e2-c65b0e223084",
   "metadata": {},
   "outputs": [
    {
     "name": "stdout",
     "output_type": "stream",
     "text": [
      "10\n"
     ]
    }
   ],
   "source": [
    "#max of args\n",
    "def sumnum(*args):\n",
    "    return max(args)\n",
    "print(sumnum(1,2,3,4,5,6,7,8,9,10))    \n",
    "    "
   ]
  },
  {
   "cell_type": "code",
   "execution_count": 14,
   "id": "94054a37-9f33-4064-8d23-5eeef424dc92",
   "metadata": {},
   "outputs": [
    {
     "name": "stdout",
     "output_type": "stream",
     "text": [
      "1\n"
     ]
    }
   ],
   "source": [
    "#min of args\n",
    "def sumnum(*args):\n",
    "    return min(args)\n",
    "print(sumnum(1,2,3,4,5,6,7,8,9,10))    \n",
    "    "
   ]
  },
  {
   "cell_type": "code",
   "execution_count": 16,
   "id": "ac3492a8-6cbc-43a9-bd56-1ccd9d743649",
   "metadata": {},
   "outputs": [
    {
     "name": "stdout",
     "output_type": "stream",
     "text": [
      "[1, 2, 3, 4, 5, 6, 7, 8, 9, 10]\n"
     ]
    }
   ],
   "source": [
    "def sumnum(*args):\n",
    "    return sorted(args)\n",
    "print(sumnum(1,2,3,4,5,6,7,8,9,10))  "
   ]
  },
  {
   "cell_type": "code",
   "execution_count": null,
   "id": "453d2f43-a982-459b-b2ba-91b7395ff24d",
   "metadata": {},
   "outputs": [],
   "source": []
  }
 ],
 "metadata": {
  "kernelspec": {
   "display_name": "Python 3 (ipykernel)",
   "language": "python",
   "name": "python3"
  },
  "language_info": {
   "codemirror_mode": {
    "name": "ipython",
    "version": 3
   },
   "file_extension": ".py",
   "mimetype": "text/x-python",
   "name": "python",
   "nbconvert_exporter": "python",
   "pygments_lexer": "ipython3",
   "version": "3.12.7"
  }
 },
 "nbformat": 4,
 "nbformat_minor": 5
}
