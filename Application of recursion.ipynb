{
 "cells": [
  {
   "cell_type": "code",
   "execution_count": 18,
   "id": "5a126076-76eb-4efc-82a7-5b0b3fa941ec",
   "metadata": {},
   "outputs": [
    {
     "name": "stdin",
     "output_type": "stream",
     "text": [
      "enter a starting number 5\n"
     ]
    },
    {
     "name": "stdout",
     "output_type": "stream",
     "text": [
      "\n",
      " player A's turn.current number5\n"
     ]
    },
    {
     "name": "stdin",
     "output_type": "stream",
     "text": [
      "player A,subtract 1 or 2: 2\n"
     ]
    },
    {
     "name": "stdout",
     "output_type": "stream",
     "text": [
      "\n",
      " player B's turn.current number3\n"
     ]
    },
    {
     "name": "stdin",
     "output_type": "stream",
     "text": [
      "player B,subtract 1 or 2: 2\n"
     ]
    },
    {
     "name": "stdout",
     "output_type": "stream",
     "text": [
      "\n",
      " player A's turn.current number1\n"
     ]
    },
    {
     "name": "stdin",
     "output_type": "stream",
     "text": [
      "player A,subtract 1 or 2: \n"
     ]
    },
    {
     "ename": "ValueError",
     "evalue": "invalid literal for int() with base 10: ''",
     "output_type": "error",
     "traceback": [
      "\u001b[1;31m---------------------------------------------------------------------------\u001b[0m",
      "\u001b[1;31mValueError\u001b[0m                                Traceback (most recent call last)",
      "Cell \u001b[1;32mIn[18], line 20\u001b[0m\n\u001b[0;32m     18\u001b[0m     player_A(n\u001b[38;5;241m-\u001b[39mmove)\n\u001b[0;32m     19\u001b[0m start\u001b[38;5;241m=\u001b[39m\u001b[38;5;28mint\u001b[39m(\u001b[38;5;28minput\u001b[39m(\u001b[38;5;124m\"\u001b[39m\u001b[38;5;124menter a starting number\u001b[39m\u001b[38;5;124m\"\u001b[39m))\n\u001b[1;32m---> 20\u001b[0m player_A(start)\n",
      "Cell \u001b[1;32mIn[18], line 9\u001b[0m, in \u001b[0;36mplayer_A\u001b[1;34m(n)\u001b[0m\n\u001b[0;32m      7\u001b[0m \u001b[38;5;28;01mwhile\u001b[39;00m move \u001b[38;5;129;01mnot\u001b[39;00m \u001b[38;5;129;01min\u001b[39;00m[\u001b[38;5;241m1\u001b[39m,\u001b[38;5;241m2\u001b[39m]:\n\u001b[0;32m      8\u001b[0m     move\u001b[38;5;241m=\u001b[39m\u001b[38;5;28mint\u001b[39m(\u001b[38;5;28minput\u001b[39m(\u001b[38;5;124m\"\u001b[39m\u001b[38;5;124mplayer A,ubtract 1 or 2:\u001b[39m\u001b[38;5;124m\"\u001b[39m))\n\u001b[1;32m----> 9\u001b[0m player_B(n\u001b[38;5;241m-\u001b[39mmove)\n",
      "Cell \u001b[1;32mIn[18], line 18\u001b[0m, in \u001b[0;36mplayer_B\u001b[1;34m(n)\u001b[0m\n\u001b[0;32m     16\u001b[0m \u001b[38;5;28;01mwhile\u001b[39;00m move \u001b[38;5;129;01mnot\u001b[39;00m \u001b[38;5;129;01min\u001b[39;00m[\u001b[38;5;241m1\u001b[39m,\u001b[38;5;241m2\u001b[39m]:\n\u001b[0;32m     17\u001b[0m     move\u001b[38;5;241m=\u001b[39m\u001b[38;5;28mint\u001b[39m(\u001b[38;5;28minput\u001b[39m(\u001b[38;5;124m\"\u001b[39m\u001b[38;5;124mplayer B,ubtract 1 or 2:\u001b[39m\u001b[38;5;124m\"\u001b[39m))\n\u001b[1;32m---> 18\u001b[0m player_A(n\u001b[38;5;241m-\u001b[39mmove)\n",
      "Cell \u001b[1;32mIn[18], line 6\u001b[0m, in \u001b[0;36mplayer_A\u001b[1;34m(n)\u001b[0m\n\u001b[0;32m      4\u001b[0m     \u001b[38;5;28;01mreturn\u001b[39;00m\n\u001b[0;32m      5\u001b[0m \u001b[38;5;28mprint\u001b[39m(\u001b[38;5;124mf\u001b[39m\u001b[38;5;124m\"\u001b[39m\u001b[38;5;130;01m\\n\u001b[39;00m\u001b[38;5;124m player A\u001b[39m\u001b[38;5;124m'\u001b[39m\u001b[38;5;124ms turn.current number\u001b[39m\u001b[38;5;132;01m{\u001b[39;00mn\u001b[38;5;132;01m}\u001b[39;00m\u001b[38;5;124m\"\u001b[39m)\n\u001b[1;32m----> 6\u001b[0m move\u001b[38;5;241m=\u001b[39m\u001b[38;5;28mint\u001b[39m(\u001b[38;5;28minput\u001b[39m(\u001b[38;5;124m\"\u001b[39m\u001b[38;5;124mplayer A,subtract 1 or 2:\u001b[39m\u001b[38;5;124m\"\u001b[39m))\n\u001b[0;32m      7\u001b[0m \u001b[38;5;28;01mwhile\u001b[39;00m move \u001b[38;5;129;01mnot\u001b[39;00m \u001b[38;5;129;01min\u001b[39;00m[\u001b[38;5;241m1\u001b[39m,\u001b[38;5;241m2\u001b[39m]:\n\u001b[0;32m      8\u001b[0m     move\u001b[38;5;241m=\u001b[39m\u001b[38;5;28mint\u001b[39m(\u001b[38;5;28minput\u001b[39m(\u001b[38;5;124m\"\u001b[39m\u001b[38;5;124mplayer A,ubtract 1 or 2:\u001b[39m\u001b[38;5;124m\"\u001b[39m))\n",
      "\u001b[1;31mValueError\u001b[0m: invalid literal for int() with base 10: ''"
     ]
    }
   ],
   "source": [
    "def player_A(n):\n",
    "    if n<=0:\n",
    "        print(\"player A raeched 0!! player A loses 🤦‍♀️\")\n",
    "        return\n",
    "    print(f\"\\n player A's turn.current number{n}\")\n",
    "    move=int(input(\"player A,subtract 1 or 2:\"))\n",
    "    while move not in[1,2]:\n",
    "        move=int(input(\"player A,ubtract 1 or 2:\"))\n",
    "    player_B(n-move)\n",
    "def player_B(n):\n",
    "    if n<=0:\n",
    "        print(\"player B reached 0!! player B loses\")\n",
    "        return\n",
    "    print(f\"\\n player B's turn.current number{n}\")\n",
    "    move=int(input(\"player B,subtract 1 or 2:\"))\n",
    "    while move not in[1,2]:\n",
    "        move=int(input(\"player B,ubtract 1 or 2:\"))\n",
    "    player_A(n-move)\n",
    "start=int(input(\"enter a starting number\"))\n",
    "player_A(start)\n",
    "\n",
    "\n",
    "     "
   ]
  },
  {
   "cell_type": "code",
   "execution_count": null,
   "id": "6121eb63-fefe-4911-b098-5107fe4d0748",
   "metadata": {},
   "outputs": [],
   "source": []
  }
 ],
 "metadata": {
  "kernelspec": {
   "display_name": "Python 3 (ipykernel)",
   "language": "python",
   "name": "python3"
  },
  "language_info": {
   "codemirror_mode": {
    "name": "ipython",
    "version": 3
   },
   "file_extension": ".py",
   "mimetype": "text/x-python",
   "name": "python",
   "nbconvert_exporter": "python",
   "pygments_lexer": "ipython3",
   "version": "3.12.7"
  }
 },
 "nbformat": 4,
 "nbformat_minor": 5
}
